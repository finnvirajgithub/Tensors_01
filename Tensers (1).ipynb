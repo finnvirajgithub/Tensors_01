{
 "cells": [
  {
   "cell_type": "markdown",
   "id": "2a7c91e4",
   "metadata": {},
   "source": [
    "## TENSORS"
   ]
  },
  {
   "cell_type": "markdown",
   "id": "025de29c",
   "metadata": {},
   "source": [
    "### 0-d Tensors (Scaler)"
   ]
  },
  {
   "cell_type": "code",
   "execution_count": 1,
   "id": "7b2f2062",
   "metadata": {},
   "outputs": [],
   "source": [
    "import numpy as np"
   ]
  },
  {
   "cell_type": "code",
   "execution_count": 2,
   "id": "6050db0c",
   "metadata": {},
   "outputs": [],
   "source": [
    "a= np.array(2)"
   ]
  },
  {
   "cell_type": "code",
   "execution_count": 3,
   "id": "3eb33de9",
   "metadata": {},
   "outputs": [
    {
     "data": {
      "text/plain": [
       "array(2)"
      ]
     },
     "execution_count": 3,
     "metadata": {},
     "output_type": "execute_result"
    }
   ],
   "source": [
    "a"
   ]
  },
  {
   "cell_type": "code",
   "execution_count": 4,
   "id": "1b5d3bc6",
   "metadata": {},
   "outputs": [
    {
     "data": {
      "text/plain": [
       "0"
      ]
     },
     "execution_count": 4,
     "metadata": {},
     "output_type": "execute_result"
    }
   ],
   "source": [
    "a.ndim"
   ]
  },
  {
   "cell_type": "markdown",
   "id": "45e57399",
   "metadata": {},
   "source": [
    "### 1-d Tensors (Vector)"
   ]
  },
  {
   "cell_type": "code",
   "execution_count": 5,
   "id": "45885b38",
   "metadata": {},
   "outputs": [],
   "source": [
    "a= np.array([1,2])"
   ]
  },
  {
   "cell_type": "code",
   "execution_count": 6,
   "id": "7a533557",
   "metadata": {},
   "outputs": [
    {
     "data": {
      "text/plain": [
       "array([1, 2])"
      ]
     },
     "execution_count": 6,
     "metadata": {},
     "output_type": "execute_result"
    }
   ],
   "source": [
    "a"
   ]
  },
  {
   "cell_type": "code",
   "execution_count": 7,
   "id": "d086be57",
   "metadata": {},
   "outputs": [
    {
     "data": {
      "text/plain": [
       "1"
      ]
     },
     "execution_count": 7,
     "metadata": {},
     "output_type": "execute_result"
    }
   ],
   "source": [
    "a.ndim"
   ]
  },
  {
   "cell_type": "markdown",
   "id": "5043cae2",
   "metadata": {},
   "source": [
    "### 2-d Tensors (Matrices)"
   ]
  },
  {
   "cell_type": "code",
   "execution_count": 8,
   "id": "fe7ff0fc",
   "metadata": {},
   "outputs": [],
   "source": [
    "a= np.array([[1,2],[2,4]])"
   ]
  },
  {
   "cell_type": "code",
   "execution_count": 9,
   "id": "81e6ee0e",
   "metadata": {},
   "outputs": [
    {
     "data": {
      "text/plain": [
       "array([[1, 2],\n",
       "       [2, 4]])"
      ]
     },
     "execution_count": 9,
     "metadata": {},
     "output_type": "execute_result"
    }
   ],
   "source": [
    "a"
   ]
  },
  {
   "cell_type": "code",
   "execution_count": 10,
   "id": "71bbb6a5",
   "metadata": {},
   "outputs": [
    {
     "data": {
      "text/plain": [
       "2"
      ]
     },
     "execution_count": 10,
     "metadata": {},
     "output_type": "execute_result"
    }
   ],
   "source": [
    "a.ndim"
   ]
  },
  {
   "cell_type": "markdown",
   "id": "60883304",
   "metadata": {},
   "source": [
    "### 3-d Tansors (N-D Tensers)"
   ]
  },
  {
   "cell_type": "code",
   "execution_count": 11,
   "id": "bb7ebf41",
   "metadata": {},
   "outputs": [],
   "source": [
    "a= np.array([[[1,2],[2,4]],\n",
    "             [[5,6],[7,8]]])"
   ]
  },
  {
   "cell_type": "code",
   "execution_count": 12,
   "id": "683e4eb8",
   "metadata": {},
   "outputs": [
    {
     "data": {
      "text/plain": [
       "array([[[1, 2],\n",
       "        [2, 4]],\n",
       "\n",
       "       [[5, 6],\n",
       "        [7, 8]]])"
      ]
     },
     "execution_count": 12,
     "metadata": {},
     "output_type": "execute_result"
    }
   ],
   "source": [
    "a"
   ]
  },
  {
   "cell_type": "code",
   "execution_count": 13,
   "id": "0d61a324",
   "metadata": {},
   "outputs": [
    {
     "data": {
      "text/plain": [
       "3"
      ]
     },
     "execution_count": 13,
     "metadata": {},
     "output_type": "execute_result"
    }
   ],
   "source": [
    "a.ndim"
   ]
  },
  {
   "cell_type": "markdown",
   "id": "641e5279",
   "metadata": {},
   "source": [
    "### 4-d Tensors"
   ]
  },
  {
   "cell_type": "code",
   "execution_count": 14,
   "id": "359abffa",
   "metadata": {},
   "outputs": [],
   "source": [
    "a= np.array([[[[1,2],[3,4]]],[[[5,6],[7,8]]],[[[9,10],[11,12]]],[[[13,14],[15,16]]]])"
   ]
  },
  {
   "cell_type": "code",
   "execution_count": 15,
   "id": "420fb990",
   "metadata": {},
   "outputs": [
    {
     "data": {
      "text/plain": [
       "array([[[[ 1,  2],\n",
       "         [ 3,  4]]],\n",
       "\n",
       "\n",
       "       [[[ 5,  6],\n",
       "         [ 7,  8]]],\n",
       "\n",
       "\n",
       "       [[[ 9, 10],\n",
       "         [11, 12]]],\n",
       "\n",
       "\n",
       "       [[[13, 14],\n",
       "         [15, 16]]]])"
      ]
     },
     "execution_count": 15,
     "metadata": {},
     "output_type": "execute_result"
    }
   ],
   "source": [
    "a"
   ]
  },
  {
   "cell_type": "code",
   "execution_count": 16,
   "id": "cd828b99",
   "metadata": {},
   "outputs": [
    {
     "data": {
      "text/plain": [
       "4"
      ]
     },
     "execution_count": 16,
     "metadata": {},
     "output_type": "execute_result"
    }
   ],
   "source": [
    "a.ndim"
   ]
  },
  {
   "cell_type": "markdown",
   "id": "7d2fc2ab",
   "metadata": {},
   "source": [
    "### 5-d Tensors"
   ]
  },
  {
   "cell_type": "code",
   "execution_count": 17,
   "id": "2415a0f5",
   "metadata": {},
   "outputs": [],
   "source": [
    "a= np.array([[[[[1,2],[3,4]]]],[[[[5,6],[7,8]]]],[[[[9,10],[11,12]]]],[[[[13,14],[15,16]]]],[[[[17,18],[19,20]]]],[[[[21,22],[23,24]]]]])"
   ]
  },
  {
   "cell_type": "code",
   "execution_count": 18,
   "id": "c044cf8d",
   "metadata": {},
   "outputs": [
    {
     "data": {
      "text/plain": [
       "array([[[[[ 1,  2],\n",
       "          [ 3,  4]]]],\n",
       "\n",
       "\n",
       "\n",
       "       [[[[ 5,  6],\n",
       "          [ 7,  8]]]],\n",
       "\n",
       "\n",
       "\n",
       "       [[[[ 9, 10],\n",
       "          [11, 12]]]],\n",
       "\n",
       "\n",
       "\n",
       "       [[[[13, 14],\n",
       "          [15, 16]]]],\n",
       "\n",
       "\n",
       "\n",
       "       [[[[17, 18],\n",
       "          [19, 20]]]],\n",
       "\n",
       "\n",
       "\n",
       "       [[[[21, 22],\n",
       "          [23, 24]]]]])"
      ]
     },
     "execution_count": 18,
     "metadata": {},
     "output_type": "execute_result"
    }
   ],
   "source": [
    "a"
   ]
  },
  {
   "cell_type": "code",
   "execution_count": 19,
   "id": "7c0443a3",
   "metadata": {},
   "outputs": [
    {
     "data": {
      "text/plain": [
       "5"
      ]
     },
     "execution_count": 19,
     "metadata": {},
     "output_type": "execute_result"
    }
   ],
   "source": [
    "a.ndim"
   ]
  },
  {
   "cell_type": "markdown",
   "id": "ca885dec",
   "metadata": {},
   "source": [
    "### 6-d Tensors"
   ]
  },
  {
   "cell_type": "code",
   "execution_count": 20,
   "id": "fd7ae3a6",
   "metadata": {},
   "outputs": [],
   "source": [
    "a=np.array([[[[[[1,2],[3,4]]]]]])"
   ]
  },
  {
   "cell_type": "code",
   "execution_count": 21,
   "id": "6874b30e",
   "metadata": {},
   "outputs": [
    {
     "data": {
      "text/plain": [
       "array([[[[[[1, 2],\n",
       "           [3, 4]]]]]])"
      ]
     },
     "execution_count": 21,
     "metadata": {},
     "output_type": "execute_result"
    }
   ],
   "source": [
    "a"
   ]
  },
  {
   "cell_type": "code",
   "execution_count": 22,
   "id": "da674d11",
   "metadata": {},
   "outputs": [
    {
     "data": {
      "text/plain": [
       "6"
      ]
     },
     "execution_count": 22,
     "metadata": {},
     "output_type": "execute_result"
    }
   ],
   "source": [
    "a.ndim"
   ]
  },
  {
   "cell_type": "markdown",
   "id": "98210586",
   "metadata": {},
   "source": [
    "## Diagram to understad"
   ]
  },
  {
   "cell_type": "markdown",
   "id": "07febf14",
   "metadata": {},
   "source": [
    "![](tenserdiagram.jpeg)"
   ]
  },
  {
   "cell_type": "code",
   "execution_count": null,
   "id": "628fd2d2",
   "metadata": {},
   "outputs": [],
   "source": []
  }
 ],
 "metadata": {
  "kernelspec": {
   "display_name": "Python 3 (ipykernel)",
   "language": "python",
   "name": "python3"
  },
  "language_info": {
   "codemirror_mode": {
    "name": "ipython",
    "version": 3
   },
   "file_extension": ".py",
   "mimetype": "text/x-python",
   "name": "python",
   "nbconvert_exporter": "python",
   "pygments_lexer": "ipython3",
   "version": "3.9.12"
  }
 },
 "nbformat": 4,
 "nbformat_minor": 5
}
